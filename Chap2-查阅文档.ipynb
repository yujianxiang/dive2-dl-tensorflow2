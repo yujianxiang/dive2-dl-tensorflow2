{
 "cells": [
  {
   "cell_type": "code",
   "execution_count": 1,
   "metadata": {},
   "outputs": [],
   "source": [
    "import tensorflow as  tf "
   ]
  },
  {
   "cell_type": "markdown",
   "metadata": {},
   "source": [
    "## 2.4.1. 查找模块里的所有函数和类\n",
    "当我们想知道一个模块里面提供了哪些可以调用的函数和类的时候，可以使用dir函数。下面我们打印tf.random模块中所有的成员或属性。"
   ]
  },
  {
   "cell_type": "code",
   "execution_count": 2,
   "metadata": {
    "scrolled": true
   },
   "outputs": [
    {
     "data": {
      "text/plain": [
       "['__builtins__',\n",
       " '__cached__',\n",
       " '__doc__',\n",
       " '__file__',\n",
       " '__loader__',\n",
       " '__name__',\n",
       " '__package__',\n",
       " '__path__',\n",
       " '__spec__',\n",
       " '_sys',\n",
       " 'all_candidate_sampler',\n",
       " 'categorical',\n",
       " 'experimental',\n",
       " 'fixed_unigram_candidate_sampler',\n",
       " 'gamma',\n",
       " 'learned_unigram_candidate_sampler',\n",
       " 'log_uniform_candidate_sampler',\n",
       " 'normal',\n",
       " 'poisson',\n",
       " 'set_seed',\n",
       " 'shuffle',\n",
       " 'stateless_categorical',\n",
       " 'stateless_normal',\n",
       " 'stateless_truncated_normal',\n",
       " 'stateless_uniform',\n",
       " 'truncated_normal',\n",
       " 'uniform',\n",
       " 'uniform_candidate_sampler']"
      ]
     },
     "execution_count": 2,
     "metadata": {},
     "output_type": "execute_result"
    }
   ],
   "source": [
    "dir(tf.random)"
   ]
  },
  {
   "cell_type": "markdown",
   "metadata": {},
   "source": [
    "通常我们可以忽略掉由__开头和结尾的函数（Python的特别对象）或者由_开头的函数（一般为内部函数）。通过其余成员的名字我们大致猜测出这个模块提供了各种随机数的生成方法，包括从均匀分布采样（uniform）、从正态分布采样（normal）、从泊松分布采样（poisson）等"
   ]
  },
  {
   "cell_type": "markdown",
   "metadata": {},
   "source": [
    "## 2.4.2. 查找特定函数和类的使用\n",
    "想了解某个函数或者类的具体用法时，可以使用help函数。让我们以ones_like函数为例，查阅它的用法。"
   ]
  },
  {
   "cell_type": "code",
   "execution_count": 3,
   "metadata": {},
   "outputs": [
    {
     "name": "stdout",
     "output_type": "stream",
     "text": [
      "Help on function ones_like_v2 in module tensorflow.python.ops.array_ops:\n",
      "\n",
      "ones_like_v2(input, dtype=None, name=None)\n",
      "    Creates a tensor with all elements set to one.\n",
      "    \n",
      "    Given a single tensor (`tensor`), this operation returns a tensor of the\n",
      "    same type and shape as `tensor` with all elements set to 1. Optionally,\n",
      "    you can use `dtype` to specify a new type for the returned tensor.\n",
      "    \n",
      "    For example:\n",
      "    \n",
      "    ```python\n",
      "    tensor = tf.constant([[1, 2, 3], [4, 5, 6]])\n",
      "    tf.ones_like(tensor)  # [[1, 1, 1], [1, 1, 1]]\n",
      "    ```\n",
      "    \n",
      "    Args:\n",
      "      input: A `Tensor`.\n",
      "      dtype: A type for the returned `Tensor`. Must be `float16`, `float32`,\n",
      "        `float64`, `int8`, `uint8`, `int16`, `uint16`, `int32`, `int64`,\n",
      "        `complex64`, `complex128`, `bool` or `string`.\n",
      "      name: A name for the operation (optional).\n",
      "    \n",
      "    Returns:\n",
      "      A `Tensor` with all elements set to one.\n",
      "\n"
     ]
    }
   ],
   "source": [
    "help(tf.ones_like)"
   ]
  },
  {
   "cell_type": "markdown",
   "metadata": {},
   "source": [
    "根据给的例子来做个验证 "
   ]
  },
  {
   "cell_type": "code",
   "execution_count": 4,
   "metadata": {},
   "outputs": [
    {
     "data": {
      "text/plain": [
       "<tf.Tensor: id=3, shape=(2, 3), dtype=int32, numpy=\n",
       "array([[1, 1, 1],\n",
       "       [1, 1, 1]])>"
      ]
     },
     "execution_count": 4,
     "metadata": {},
     "output_type": "execute_result"
    }
   ],
   "source": [
    "tensor = tf.constant([[1,2,3],[4,5,6]])\n",
    "tf.ones_like(tensor) "
   ]
  },
  {
   "cell_type": "markdown",
   "metadata": {},
   "source": [
    "## 2.4.3. 在Tensorflow网站上查阅\n",
    "读者也可以利用 tensorflow 网站的文档来查询相关函数的使用， 访问网站 <https://www.tensorflow.org/api_docs/python/>即可查阅Tensorflow 的Python文档。此外，也可以在网页右上方含“Search”字样的搜索框中直接搜索函数或类名称。"
   ]
  },
  {
   "cell_type": "code",
   "execution_count": null,
   "metadata": {},
   "outputs": [],
   "source": []
  }
 ],
 "metadata": {
  "kernelspec": {
   "display_name": "Python 3",
   "language": "python",
   "name": "python3"
  },
  "language_info": {
   "codemirror_mode": {
    "name": "ipython",
    "version": 3
   },
   "file_extension": ".py",
   "mimetype": "text/x-python",
   "name": "python",
   "nbconvert_exporter": "python",
   "pygments_lexer": "ipython3",
   "version": "3.7.3"
  }
 },
 "nbformat": 4,
 "nbformat_minor": 2
}
